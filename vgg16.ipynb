{
 "cells": [
  {
   "cell_type": "code",
   "execution_count": 1,
   "metadata": {},
   "outputs": [
    {
     "name": "stdout",
     "output_type": "stream",
     "text": [
      "Num GPUs Available:  1\n"
     ]
    }
   ],
   "source": [
    "import tensorflow as tf\n",
    "print(\"Num GPUs Available: \", len(tf.config.experimental.list_physical_devices('GPU')))"
   ]
  },
  {
   "cell_type": "code",
   "execution_count": 3,
   "metadata": {},
   "outputs": [
    {
     "name": "stdout",
     "output_type": "stream",
     "text": [
      "Downloading data from https://storage.googleapis.com/tensorflow/keras-applications/vgg16/vgg16_weights_tf_dim_ordering_tf_kernels.h5\n",
      "553467904/553467096 [==============================] - 7s 0us/step\n"
     ]
    }
   ],
   "source": [
    "vgg16 = tf.keras.applications.vgg16.VGG16()"
   ]
  },
  {
   "cell_type": "code",
   "execution_count": 5,
   "metadata": {},
   "outputs": [],
   "source": [
    "from tensorflow.keras.models import Sequential\n",
    "from tensorflow.keras.layers import Flatten, Dense, Conv2D, MaxPooling2D, BatchNormalization, Dropout\n",
    "from tensorflow.keras.optimizers import Adam\n",
    "\n",
    "model = Sequential()\n",
    "for layer in vgg16.layers:\n",
    "    model.add(layer)"
   ]
  },
  {
   "cell_type": "code",
   "execution_count": 6,
   "metadata": {},
   "outputs": [
    {
     "name": "stdout",
     "output_type": "stream",
     "text": [
      "Model: \"sequential\"\n",
      "_________________________________________________________________\n",
      "Layer (type)                 Output Shape              Param #   \n",
      "=================================================================\n",
      "block1_conv1 (Conv2D)        (None, 224, 224, 64)      1792      \n",
      "_________________________________________________________________\n",
      "block1_conv2 (Conv2D)        (None, 224, 224, 64)      36928     \n",
      "_________________________________________________________________\n",
      "block1_pool (MaxPooling2D)   (None, 112, 112, 64)      0         \n",
      "_________________________________________________________________\n",
      "block2_conv1 (Conv2D)        (None, 112, 112, 128)     73856     \n",
      "_________________________________________________________________\n",
      "block2_conv2 (Conv2D)        (None, 112, 112, 128)     147584    \n",
      "_________________________________________________________________\n",
      "block2_pool (MaxPooling2D)   (None, 56, 56, 128)       0         \n",
      "_________________________________________________________________\n",
      "block3_conv1 (Conv2D)        (None, 56, 56, 256)       295168    \n",
      "_________________________________________________________________\n",
      "block3_conv2 (Conv2D)        (None, 56, 56, 256)       590080    \n",
      "_________________________________________________________________\n",
      "block3_conv3 (Conv2D)        (None, 56, 56, 256)       590080    \n",
      "_________________________________________________________________\n",
      "block3_pool (MaxPooling2D)   (None, 28, 28, 256)       0         \n",
      "_________________________________________________________________\n",
      "block4_conv1 (Conv2D)        (None, 28, 28, 512)       1180160   \n",
      "_________________________________________________________________\n",
      "block4_conv2 (Conv2D)        (None, 28, 28, 512)       2359808   \n",
      "_________________________________________________________________\n",
      "block4_conv3 (Conv2D)        (None, 28, 28, 512)       2359808   \n",
      "_________________________________________________________________\n",
      "block4_pool (MaxPooling2D)   (None, 14, 14, 512)       0         \n",
      "_________________________________________________________________\n",
      "block5_conv1 (Conv2D)        (None, 14, 14, 512)       2359808   \n",
      "_________________________________________________________________\n",
      "block5_conv2 (Conv2D)        (None, 14, 14, 512)       2359808   \n",
      "_________________________________________________________________\n",
      "block5_conv3 (Conv2D)        (None, 14, 14, 512)       2359808   \n",
      "_________________________________________________________________\n",
      "block5_pool (MaxPooling2D)   (None, 7, 7, 512)         0         \n",
      "_________________________________________________________________\n",
      "flatten (Flatten)            (None, 25088)             0         \n",
      "_________________________________________________________________\n",
      "fc1 (Dense)                  (None, 4096)              102764544 \n",
      "_________________________________________________________________\n",
      "fc2 (Dense)                  (None, 4096)              16781312  \n",
      "_________________________________________________________________\n",
      "predictions (Dense)          (None, 1000)              4097000   \n",
      "=================================================================\n",
      "Total params: 138,357,544\n",
      "Trainable params: 138,357,544\n",
      "Non-trainable params: 0\n",
      "_________________________________________________________________\n"
     ]
    }
   ],
   "source": [
    "model.summary()"
   ]
  },
  {
   "cell_type": "code",
   "execution_count": 7,
   "metadata": {},
   "outputs": [
    {
     "data": {
      "text/plain": [
       "<tensorflow.python.keras.layers.core.Dense at 0x7fdcfc495d30>"
      ]
     },
     "execution_count": 7,
     "metadata": {},
     "output_type": "execute_result"
    }
   ],
   "source": [
    "model.layers.pop()"
   ]
  },
  {
   "cell_type": "code",
   "execution_count": 8,
   "metadata": {},
   "outputs": [],
   "source": [
    "for layer in model.layers:\n",
    "    layer.trainable = False"
   ]
  },
  {
   "cell_type": "code",
   "execution_count": 9,
   "metadata": {},
   "outputs": [],
   "source": [
    "model.add(Dense(1, activation='sigmoid'))"
   ]
  },
  {
   "cell_type": "code",
   "execution_count": 18,
   "metadata": {},
   "outputs": [],
   "source": [
    "optimizer = Adam(lr=0.01)\n",
    "model.compile(optimizer = optimizer, loss = 'binary_crossentropy', metrics = ['accuracy'])  "
   ]
  },
  {
   "cell_type": "code",
   "execution_count": 19,
   "metadata": {},
   "outputs": [
    {
     "name": "stdout",
     "output_type": "stream",
     "text": [
      "Found 12565 images belonging to 2 classes.\n",
      "Found 3140 images belonging to 2 classes.\n"
     ]
    }
   ],
   "source": [
    "from tensorflow.keras.preprocessing.image import ImageDataGenerator\n",
    "from tensorflow.keras.callbacks import CSVLogger\n",
    "\n",
    "training_data_dir = \"data/data\"\n",
    "# validation_data_dir = \"data/\"\n",
    "# test_data_dir = \"data/test\"\n",
    "\n",
    "# Hyperparams\n",
    "IMAGE_SIZE = 224\n",
    "IMAGE_WIDTH, IMAGE_HEIGHT = IMAGE_SIZE, IMAGE_SIZE\n",
    "EPOCHS = 40\n",
    "BATCH_SIZE = 16\n",
    "input_shape = (IMAGE_WIDTH, IMAGE_HEIGHT, 3)\n",
    "\n",
    "# Data augmentation\n",
    "training_data_generator = ImageDataGenerator(rescale=1./255, horizontal_flip=True, vertical_flip=True, validation_split=0.2)\n",
    "\n",
    "# Data preparation\n",
    "training = training_data_generator.flow_from_directory(\n",
    "    training_data_dir,\n",
    "    target_size=(IMAGE_WIDTH, IMAGE_HEIGHT),\n",
    "    batch_size=BATCH_SIZE,\n",
    "    class_mode=\"binary\",\n",
    "    subset=\"training\", seed=4)\n",
    "\n",
    "validation = training_data_generator.flow_from_directory(\n",
    "    training_data_dir,\n",
    "    target_size=(IMAGE_WIDTH, IMAGE_HEIGHT),\n",
    "    batch_size=BATCH_SIZE,\n",
    "    class_mode=\"binary\",\n",
    "    subset=\"validation\", seed=4)"
   ]
  },
  {
   "cell_type": "code",
   "execution_count": 20,
   "metadata": {},
   "outputs": [
    {
     "name": "stdout",
     "output_type": "stream",
     "text": [
      "Epoch 1/40\n",
      "785/785 [==============================] - 251s 320ms/step - loss: 0.6182 - accuracy: 0.7932 - val_loss: 0.5503 - val_accuracy: 0.8607\n",
      "Epoch 2/40\n",
      "785/785 [==============================] - 258s 329ms/step - loss: 0.5277 - accuracy: 0.8432 - val_loss: 0.4728 - val_accuracy: 0.8677\n",
      "Epoch 3/40\n",
      "785/785 [==============================] - 259s 330ms/step - loss: 0.4731 - accuracy: 0.8494 - val_loss: 0.4253 - val_accuracy: 0.8673\n",
      "Epoch 4/40\n",
      "785/785 [==============================] - 259s 330ms/step - loss: 0.4361 - accuracy: 0.8498 - val_loss: 0.3936 - val_accuracy: 0.8712\n",
      "Epoch 5/40\n",
      "785/785 [==============================] - 262s 334ms/step - loss: 0.4131 - accuracy: 0.8499 - val_loss: 0.3726 - val_accuracy: 0.8715\n",
      "Epoch 6/40\n",
      "785/785 [==============================] - 262s 333ms/step - loss: 0.3939 - accuracy: 0.8536 - val_loss: 0.3608 - val_accuracy: 0.8756\n",
      "Epoch 7/40\n",
      "785/785 [==============================] - 259s 330ms/step - loss: 0.3812 - accuracy: 0.8554 - val_loss: 0.3438 - val_accuracy: 0.8724\n",
      "Epoch 8/40\n",
      "785/785 [==============================] - 260s 331ms/step - loss: 0.3709 - accuracy: 0.8559 - val_loss: 0.3395 - val_accuracy: 0.8769\n",
      "Epoch 9/40\n",
      "785/785 [==============================] - 257s 327ms/step - loss: 0.3617 - accuracy: 0.8596 - val_loss: 0.3293 - val_accuracy: 0.8750\n",
      "Epoch 10/40\n",
      "785/785 [==============================] - 258s 328ms/step - loss: 0.3562 - accuracy: 0.8601 - val_loss: 0.3228 - val_accuracy: 0.8788\n",
      "Epoch 11/40\n",
      "785/785 [==============================] - 261s 332ms/step - loss: 0.3477 - accuracy: 0.8603 - val_loss: 0.3193 - val_accuracy: 0.8772\n",
      "Epoch 12/40\n",
      "785/785 [==============================] - 261s 332ms/step - loss: 0.3435 - accuracy: 0.8613 - val_loss: 0.3185 - val_accuracy: 0.8811\n",
      "Epoch 13/40\n",
      "785/785 [==============================] - 262s 333ms/step - loss: 0.3398 - accuracy: 0.8628 - val_loss: 0.3090 - val_accuracy: 0.8804\n",
      "Epoch 14/40\n",
      "785/785 [==============================] - 262s 334ms/step - loss: 0.3354 - accuracy: 0.8652 - val_loss: 0.3091 - val_accuracy: 0.8817\n",
      "Epoch 15/40\n",
      "785/785 [==============================] - 262s 334ms/step - loss: 0.3313 - accuracy: 0.8665 - val_loss: 0.3020 - val_accuracy: 0.8823\n",
      "Epoch 16/40\n",
      "785/785 [==============================] - 262s 334ms/step - loss: 0.3288 - accuracy: 0.8669 - val_loss: 0.3018 - val_accuracy: 0.8881\n",
      "Epoch 17/40\n",
      "785/785 [==============================] - 261s 332ms/step - loss: 0.3250 - accuracy: 0.8693 - val_loss: 0.2963 - val_accuracy: 0.8842\n",
      "Epoch 18/40\n",
      "785/785 [==============================] - 261s 333ms/step - loss: 0.3221 - accuracy: 0.8679 - val_loss: 0.2974 - val_accuracy: 0.8865\n",
      "Epoch 19/40\n",
      "785/785 [==============================] - 261s 333ms/step - loss: 0.3160 - accuracy: 0.8709 - val_loss: 0.2954 - val_accuracy: 0.8855\n",
      "Epoch 20/40\n",
      "785/785 [==============================] - 262s 334ms/step - loss: 0.3156 - accuracy: 0.8715 - val_loss: 0.2855 - val_accuracy: 0.8881\n",
      "Epoch 21/40\n",
      "785/785 [==============================] - 262s 334ms/step - loss: 0.3144 - accuracy: 0.8721 - val_loss: 0.2867 - val_accuracy: 0.8919\n",
      "Epoch 22/40\n",
      "785/785 [==============================] - 259s 330ms/step - loss: 0.3097 - accuracy: 0.8729 - val_loss: 0.2882 - val_accuracy: 0.8858\n",
      "Epoch 23/40\n",
      "785/785 [==============================] - 259s 330ms/step - loss: 0.3102 - accuracy: 0.8738 - val_loss: 0.2819 - val_accuracy: 0.8897\n",
      "Epoch 24/40\n",
      "785/785 [==============================] - 258s 329ms/step - loss: 0.3055 - accuracy: 0.8767 - val_loss: 0.2814 - val_accuracy: 0.8906\n",
      "Epoch 25/40\n",
      "785/785 [==============================] - 259s 329ms/step - loss: 0.3017 - accuracy: 0.8767 - val_loss: 0.2769 - val_accuracy: 0.8900\n",
      "Epoch 26/40\n",
      "785/785 [==============================] - 257s 328ms/step - loss: 0.3008 - accuracy: 0.8778 - val_loss: 0.2796 - val_accuracy: 0.8887\n",
      "Epoch 27/40\n",
      "785/785 [==============================] - 257s 328ms/step - loss: 0.2992 - accuracy: 0.8776 - val_loss: 0.2778 - val_accuracy: 0.8897\n",
      "Epoch 28/40\n",
      "785/785 [==============================] - 260s 331ms/step - loss: 0.2973 - accuracy: 0.8789 - val_loss: 0.2788 - val_accuracy: 0.8909\n",
      "Epoch 29/40\n",
      "785/785 [==============================] - 259s 330ms/step - loss: 0.2949 - accuracy: 0.8805 - val_loss: 0.2698 - val_accuracy: 0.8935\n",
      "Epoch 30/40\n",
      "785/785 [==============================] - 259s 330ms/step - loss: 0.2937 - accuracy: 0.8811 - val_loss: 0.2791 - val_accuracy: 0.8871\n",
      "Epoch 31/40\n",
      "785/785 [==============================] - 258s 329ms/step - loss: 0.2934 - accuracy: 0.8798 - val_loss: 0.2707 - val_accuracy: 0.8948\n",
      "Epoch 32/40\n",
      "785/785 [==============================] - 259s 330ms/step - loss: 0.2924 - accuracy: 0.8809 - val_loss: 0.2688 - val_accuracy: 0.8919\n",
      "Epoch 33/40\n",
      "785/785 [==============================] - 258s 329ms/step - loss: 0.2866 - accuracy: 0.8846 - val_loss: 0.2739 - val_accuracy: 0.8941\n",
      "Epoch 34/40\n",
      "785/785 [==============================] - 260s 331ms/step - loss: 0.2861 - accuracy: 0.8846 - val_loss: 0.2701 - val_accuracy: 0.8922\n",
      "Epoch 35/40\n",
      "785/785 [==============================] - 266s 339ms/step - loss: 0.2850 - accuracy: 0.8841 - val_loss: 0.2673 - val_accuracy: 0.8954\n",
      "Epoch 36/40\n",
      "785/785 [==============================] - 265s 337ms/step - loss: 0.2842 - accuracy: 0.8857 - val_loss: 0.2731 - val_accuracy: 0.8900\n",
      "Epoch 37/40\n",
      "785/785 [==============================] - 262s 334ms/step - loss: 0.2832 - accuracy: 0.8860 - val_loss: 0.2647 - val_accuracy: 0.8951\n",
      "Epoch 38/40\n",
      "785/785 [==============================] - 263s 335ms/step - loss: 0.2823 - accuracy: 0.8850 - val_loss: 0.2597 - val_accuracy: 0.8948\n",
      "Epoch 39/40\n",
      "785/785 [==============================] - 264s 336ms/step - loss: 0.2793 - accuracy: 0.8887 - val_loss: 0.2577 - val_accuracy: 0.8996\n",
      "Epoch 40/40\n",
      "785/785 [==============================] - 263s 335ms/step - loss: 0.2808 - accuracy: 0.8872 - val_loss: 0.2679 - val_accuracy: 0.8948\n"
     ]
    },
    {
     "data": {
      "text/plain": [
       "<tensorflow.python.keras.callbacks.History at 0x7fdd8ce70978>"
      ]
     },
     "execution_count": 20,
     "metadata": {},
     "output_type": "execute_result"
    }
   ],
   "source": [
    "model.fit_generator(\n",
    "    training,\n",
    "    steps_per_epoch=len(training.filenames) // BATCH_SIZE,\n",
    "    epochs=EPOCHS,\n",
    "    validation_data=validation,\n",
    "    validation_steps=len(validation.filenames) // BATCH_SIZE,\n",
    "    callbacks=[CSVLogger(\"training_log_vgg16.csv\", append=False, separator=\",\")], \n",
    "    verbose=1)"
   ]
  },
  {
   "cell_type": "code",
   "execution_count": 21,
   "metadata": {},
   "outputs": [
    {
     "data": {
      "image/png": "[encoded data removed]",
      "text/plain": [
       "<Figure size 432x288 with 1 Axes>"
      ]
     },
     "metadata": {
      "needs_background": "light"
     },
     "output_type": "display_data"
    }
   ],
   "source": [
    "from matplotlib import pyplot as plt\n",
    "import numpy as np\n",
    "import itertools\n",
    "\n",
    "plt.plot(model.history.history['accuracy'])\n",
    "plt.plot(model.history.history['val_accuracy'])\n",
    "plt.title('model accuracy')\n",
    "plt.ylabel('accuracy')\n",
    "plt.xlabel('epoch')\n",
    "plt.legend(['train', 'validation'], loc='upper left')\n",
    "plt.show()"
   ]
  },
  {
   "cell_type": "code",
   "execution_count": 22,
   "metadata": {},
   "outputs": [
    {
     "data": {
      "image/png": "[encoded data removed]",
      "text/plain": [
       "<Figure size 432x288 with 1 Axes>"
      ]
     },
     "metadata": {
      "needs_background": "light"
     },
     "output_type": "display_data"
    }
   ],
   "source": [
    "plt.plot(model.history.history['loss'])\n",
    "plt.plot(model.history.history['val_loss'])\n",
    "plt.title('Loss function')\n",
    "plt.ylabel('Loss')\n",
    "plt.xlabel('epoch')\n",
    "plt.legend(['train', 'validation'], loc='upper left')\n",
    "plt.show()"
   ]
  },
  {
   "cell_type": "code",
   "execution_count": 23,
   "metadata": {},
   "outputs": [],
   "source": [
    "def plot_confusion_matrix(cm, target_names, title='Confusion matrix', cmap=None, normalize=True):\n",
    "    \"\"\"\n",
    "    Arguments\n",
    "    ---------\n",
    "    cm:           confusion matrix from sklearn.metrics.confusion_matrix\n",
    "\n",
    "    target_names: given classification classes such as [0, 1, 2]\n",
    "                  the class names, for example: ['high', 'medium', 'low']\n",
    "\n",
    "    title:        the text to display at the top of the matrix\n",
    "\n",
    "    cmap:         the gradient of the values displayed from matplotlib.pyplot.cm\n",
    "                  see http://matplotlib.org/examples/color/colormaps_reference.html\n",
    "                  plt.get_cmap('jet') or plt.cm.Blues\n",
    "\n",
    "    normalize:    If False, plot the raw numbers\n",
    "                  If True, plot the proportions\n",
    "    \"\"\"\n",
    "\n",
    "    accuracy = np.trace(cm) / np.sum(cm).astype('float')\n",
    "    misclass = 1 - accuracy\n",
    "\n",
    "    if cmap is None:\n",
    "        cmap = plt.get_cmap('Blues')\n",
    "\n",
    "    plt.figure(figsize=(8, 6))\n",
    "    plt.imshow(cm, interpolation='nearest', cmap=cmap)\n",
    "    plt.title(title)\n",
    "    plt.colorbar()\n",
    "\n",
    "    if target_names is not None:\n",
    "        tick_marks = np.arange(len(target_names))\n",
    "        plt.xticks(tick_marks, target_names, rotation=45)\n",
    "        plt.yticks(tick_marks, target_names)\n",
    "    if normalize:\n",
    "        cm = cm.astype('float') / cm.sum(axis=1)[:, np.newaxis]\n",
    "\n",
    "    thresh = cm.max() / 1.5 if normalize else cm.max() / 2\n",
    "    for i, j in itertools.product(range(cm.shape[0]), range(cm.shape[1])):\n",
    "        if normalize:\n",
    "            plt.text(j, i, \"{:0.4f}\".format(cm[i, j]),\n",
    "                     horizontalalignment=\"center\",\n",
    "                     color=\"white\" if cm[i, j] > thresh else \"black\")\n",
    "        else:\n",
    "            plt.text(j, i, \"{:,}\".format(cm[i, j]),\n",
    "                     horizontalalignment=\"center\",\n",
    "                     color=\"white\" if cm[i, j] > thresh else \"black\")\n",
    "\n",
    "    plt.tight_layout()\n",
    "    plt.ylabel('True label')\n",
    "    plt.xlabel('Predicted label\\naccuracy={:0.4f}; misclass={:0.4f}'.format(accuracy, misclass))\n",
    "    plt.show()"
   ]
  },
  {
   "cell_type": "code",
   "execution_count": 24,
   "metadata": {},
   "outputs": [
    {
     "name": "stdout",
     "output_type": "stream",
     "text": [
      "Found 3140 images belonging to 2 classes.\n"
     ]
    }
   ],
   "source": [
    "validation_ = training_data_generator.flow_from_directory(\n",
    "    training_data_dir,\n",
    "    target_size=(IMAGE_WIDTH, IMAGE_HEIGHT),\n",
    "    batch_size=1,\n",
    "    class_mode=\"binary\",\n",
    "    shuffle=False,\n",
    "    subset=\"validation\", seed=4)"
   ]
  },
  {
   "cell_type": "code",
   "execution_count": 26,
   "metadata": {},
   "outputs": [
    {
     "name": "stdout",
     "output_type": "stream",
     "text": [
      "WARNING:tensorflow:From <ipython-input-26-b273be681fdc>:1: Model.predict_generator (from tensorflow.python.keras.engine.training) is deprecated and will be removed in a future version.\n",
      "Instructions for updating:\n",
      "Please use Model.predict, which supports generators.\n",
      "3140/3140 [==============================] - 53s 17ms/step\n"
     ]
    }
   ],
   "source": [
    "probabilities = model.predict_generator(validation_, verbose=1, steps=3140)"
   ]
  },
  {
   "cell_type": "code",
   "execution_count": 27,
   "metadata": {},
   "outputs": [
    {
     "data": {
      "image/png": "[encoded data removed]",
      "text/plain": [
       "<Figure size 576x432 with 2 Axes>"
      ]
     },
     "metadata": {
      "needs_background": "light"
     },
     "output_type": "display_data"
    }
   ],
   "source": [
    "from sklearn.metrics import confusion_matrix\n",
    "expected = validation.classes\n",
    "predicted = np.round(probabilities)\n",
    "results = confusion_matrix(expected, predicted[:,0])\n",
    "labels = ['Agriculture', 'No agriculture']\n",
    "\n",
    "plot_confusion_matrix(results, labels)"
   ]
  },
  {
   "cell_type": "code",
   "execution_count": null,
   "metadata": {},
   "outputs": [],
   "source": []
  }
 ],
 "metadata": {
  "kernelspec": {
   "display_name": "Python 3",
   "language": "python",
   "name": "python3"
  },
  "language_info": {
   "codemirror_mode": {
    "name": "ipython",
    "version": 3
   },
   "file_extension": ".py",
   "mimetype": "text/x-python",
   "name": "python",
   "nbconvert_exporter": "python",
   "pygments_lexer": "ipython3",
   "version": "3.6.9"
  }
 },
 "nbformat": 4,
 "nbformat_minor": 2
}
